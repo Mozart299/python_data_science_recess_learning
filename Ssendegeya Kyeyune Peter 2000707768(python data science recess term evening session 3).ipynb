{
 "cells": [
  {
   "cell_type": "code",
   "execution_count": 1,
   "id": "0a6cd66f",
   "metadata": {},
   "outputs": [],
   "source": [
    "#Strings, Objects, Classes, Inheritance"
   ]
  },
  {
   "cell_type": "code",
   "execution_count": 9,
   "id": "5dbfb102",
   "metadata": {},
   "outputs": [
    {
     "name": "stdout",
     "output_type": "stream",
     "text": [
      " Afternoon session\n",
      "18\n",
      "ft\n",
      "si\n",
      " AFTERNOON SESSION\n",
      " afternoon session\n",
      "Afternoon session\n"
     ]
    }
   ],
   "source": [
    "#String methods\n",
    "\n",
    "a = \" Afternoon session\"\n",
    "print(a)\n",
    "print(len(a))\n",
    "print(a[2:4])\n",
    "print(a[-4:-2])\n",
    "print(a.upper())\n",
    "print(a.lower())\n",
    "\n",
    "#strip method removes space at the start of the word\n",
    "print(a.strip())"
   ]
  },
  {
   "cell_type": "code",
   "execution_count": 10,
   "id": "8e314e41",
   "metadata": {},
   "outputs": [
    {
     "name": "stdout",
     "output_type": "stream",
     "text": [
      "Peter Cheune\n"
     ]
    }
   ],
   "source": [
    "#concatenation\n",
    "a = \"Peter\"\n",
    "b = \"Cheune\"\n",
    "print(a+\" \"+b)"
   ]
  },
  {
   "cell_type": "code",
   "execution_count": 15,
   "id": "aaa92e86",
   "metadata": {},
   "outputs": [
    {
     "name": "stdout",
     "output_type": "stream",
     "text": [
      "My name is Kyeyune and i am 21 years old\n"
     ]
    }
   ],
   "source": [
    "username = \"Kyeyune\"\n",
    "age  = str(21)\n",
    "print(\"My name is \" + username +\" and i am \"+ age + \" years old\")"
   ]
  },
  {
   "cell_type": "code",
   "execution_count": 35,
   "id": "5410f6a1",
   "metadata": {},
   "outputs": [
    {
     "name": "stdout",
     "output_type": "stream",
     "text": [
      "My name is peter and i am 22 years old\n",
      "My name is Peter and am 22 years\n"
     ]
    }
   ],
   "source": [
    "#using format and fstring\n",
    "age = 22\n",
    "name = \"Peter\"\n",
    "text = \"My name is peter and i am {}\"\n",
    "#format string\n",
    "print(text.format(age) +\" years old\")\n",
    "\n",
    "#f string\n",
    "print(f\"My name is {name} and am {age} years\")\n"
   ]
  },
  {
   "cell_type": "code",
   "execution_count": 47,
   "id": "436083e0",
   "metadata": {},
   "outputs": [
    {
     "name": "stdout",
     "output_type": "stream",
     "text": [
      "red\n",
      "beep\n",
      "honk\n"
     ]
    }
   ],
   "source": [
    "#python classes\n",
    "\n",
    "#creating a class \n",
    "class Car(): #parens are optional\n",
    "    sound = \"beep\"\n",
    "    color = \"red\"\n",
    "    \n",
    "ford = Car()\n",
    "print(ford.color)\n",
    "print(ford.sound)\n",
    "\n",
    "ford.sound = \"honk\"\n",
    "print(ford.sound)"
   ]
  },
  {
   "cell_type": "code",
   "execution_count": 48,
   "id": "92ea6478",
   "metadata": {},
   "outputs": [
    {
     "name": "stdout",
     "output_type": "stream",
     "text": [
      "blue\n"
     ]
    }
   ],
   "source": [
    "#using init method to give instances personalised attributes upon creation\n",
    "\n",
    "class Car():\n",
    "    def __init__(self, color):\n",
    "        self.color = color  # sets the attribute color to the value passed in\n",
    "        \n",
    "ford = Car(\"blue\") #instantiating a car class with the color blue\n",
    "print(ford.color)"
   ]
  },
  {
   "cell_type": "code",
   "execution_count": 44,
   "id": "6ea52850",
   "metadata": {},
   "outputs": [
    {
     "name": "stdout",
     "output_type": "stream",
     "text": [
      "black 2022\n",
      "red 2021\n"
     ]
    }
   ],
   "source": [
    "#defining different values for multiple instances\n",
    "\n",
    "class Car:\n",
    "    def __init__(self, color, year):\n",
    "        self.color = color  #sets the attribute color to the value passed in\n",
    "        self.year = year\n",
    "        \n",
    "ford = Car(\"black\", 2022) #create car object (ford)\n",
    "toyota = Car(\"red\", 2021) #create car object (Toyota)\n",
    "\n",
    "print (ford.color, ford.year)\n",
    "print (toyota.color, toyota.year)"
   ]
  },
  {
   "cell_type": "code",
   "execution_count": 49,
   "id": "472a016b",
   "metadata": {},
   "outputs": [
    {
     "name": "stdout",
     "output_type": "stream",
     "text": [
      "Peter 21 20/U/7768/PS\n",
      "William 21 20/U/7768/PS\n"
     ]
    }
   ],
   "source": [
    "class Student:\n",
    "    def __init__(self, name, age, regnumber):\n",
    "        self.name = name\n",
    "        self.age = age\n",
    "        self.regnumber = regnumber\n",
    "        \n",
    "student1 = Student(\"Peter\",\"21\",\"20/U/7768/PS\")\n",
    "student2 = Student(\"William\", \"22\", \"19/U/6587\")\n",
    "\n",
    "print(student1.name, student1.age, student1.regnumber)\n",
    "print(student2.name, student1.age, student1.regnumber)"
   ]
  },
  {
   "cell_type": "code",
   "execution_count": 59,
   "id": "d475be83",
   "metadata": {
    "scrolled": true
   },
   "outputs": [
    {
     "name": "stdout",
     "output_type": "stream",
     "text": [
      "beep\n",
      "black beep\n"
     ]
    }
   ],
   "source": [
    "#Global Attributes vs Instance attributes\n",
    "class Car:\n",
    "    sound = \"beep\" #global attribute, accessible through the class itself\n",
    "    def __init__(self, color):\n",
    "        self.color = \"black\"  # instance specific attribute, not accessible through the class itself\n",
    "        \n",
    "print(Car.sound)\n",
    "#print(Car.color) will not work because color is only available to instances of the car class, not the class itself\n",
    "\n",
    "ford = Car(\"blue\")\n",
    "print(ford.color, ford.sound) #color will work since this is an instance"
   ]
  },
  {
   "cell_type": "code",
   "execution_count": 61,
   "id": "00e304da",
   "metadata": {},
   "outputs": [
    {
     "name": "stdout",
     "output_type": "stream",
     "text": [
      "bark\n"
     ]
    }
   ],
   "source": [
    "#Methods\n",
    "#defining and calling class method\n",
    "\n",
    "class Dog:\n",
    "    def makeSound(self):\n",
    "        print(\"bark\")\n",
    "        \n",
    "sam = Dog()\n",
    "sam.makeSound()"
   ]
  },
  {
   "cell_type": "code",
   "execution_count": 64,
   "id": "aedd754a",
   "metadata": {},
   "outputs": [
    {
     "name": "stdout",
     "output_type": "stream",
     "text": [
      "bark\n"
     ]
    }
   ],
   "source": [
    "#using self keyword to access class attributes within class methods\n",
    "class Dog:\n",
    "    sound = \"bark\"\n",
    "    def makeSound(self):\n",
    "        print(self.sound) #self reequired to access attributes defined in class\n",
    "        \n",
    "sam = Dog()\n",
    "sam.makeSound()"
   ]
  },
  {
   "cell_type": "code",
   "execution_count": 68,
   "id": "84b9f99e",
   "metadata": {},
   "outputs": [
    {
     "name": "stdout",
     "output_type": "stream",
     "text": [
      "I am a dog\n",
      "bark\n"
     ]
    }
   ],
   "source": [
    "#method scope\n",
    "class Dog():\n",
    "    sound = \"bark\"\n",
    "    def makeSound(self):\n",
    "        print(self.sound)\n",
    "        \n",
    "    def printInfo():\n",
    "        print(\"I am a dog\")\n",
    "        \n",
    "#Dog.makeSound()  would produce error because self is in reference to instances only\n",
    "\n",
    "Dog.printInfo() # able to run the printInfo method because it doesn't include the self parameter\n",
    "\n",
    "sam = Dog()\n",
    "sam.makeSound() # able to access, self can reference the instance of sam\n",
    "#sam.printInfo() will produce error, instances require the self \n",
    "#parameter to access methods"
   ]
  },
  {
   "cell_type": "code",
   "execution_count": 79,
   "id": "bfbf2d09",
   "metadata": {},
   "outputs": [
    {
     "name": "stdout",
     "output_type": "stream",
     "text": [
      "roar\n"
     ]
    },
    {
     "data": {
      "text/plain": [
       "'German Shepherd'"
      ]
     },
     "execution_count": 79,
     "metadata": {},
     "output_type": "execute_result"
    }
   ],
   "source": [
    "#Inheritance\n",
    "\n",
    "class Animal():\n",
    "    def makeSound(self):\n",
    "        print(\"roar\")\n",
    "class Dog(Animal):  #inheriting the animal class\n",
    "    species = \"German Shepherd\"\n",
    "    \n",
    "sammie = Dog()\n",
    "sammie.makeSound()\n",
    "sammie.species\n",
    "\n",
    "#lion = Animal()\n",
    "#lion.makeSound()\n"
   ]
  },
  {
   "cell_type": "code",
   "execution_count": 90,
   "id": "7d6a784f",
   "metadata": {},
   "outputs": [
    {
     "name": "stdout",
     "output_type": "stream",
     "text": [
      "Australian breed Russell\n"
     ]
    }
   ],
   "source": [
    "#using the super() method to declare inherited attributes\n",
    "class Animal:\n",
    "    def __init__(self, species):\n",
    "        self.species = species\n",
    "class Sheep(Animal):\n",
    "    def __init__(self,species, name):\n",
    "        self.name = name\n",
    "        super().__init__(species)  #using super to declare the species attribute defined in the animal class\n",
    "        \n",
    "sammie = Sheep(\"Australian breed\", \"Russell\")\n",
    "print(sammie.species, sammie.name)"
   ]
  },
  {
   "cell_type": "code",
   "execution_count": 93,
   "id": "060733bb",
   "metadata": {},
   "outputs": [
    {
     "name": "stdout",
     "output_type": "stream",
     "text": [
      "bark\n",
      "roar\n"
     ]
    }
   ],
   "source": [
    " # overriding methods defined in the superclass\n",
    "    \n",
    "class Animal( ):\n",
    "    def makeSound(self):\n",
    "        print(\"roar\")\n",
    "class Dog(Animal):\n",
    "    def makeSound(self):\n",
    "        print(\"bark\")\n",
    "sam, lion = Dog( ), Animal( ) # declaring multiple variables on a single line\n",
    "\n",
    "sam.makeSound( ) # overriding will call the makeSound method in Dog\n",
    "\n",
    "lion.makeSound( ) # no overriding occurs as Animal does not inherit anything"
   ]
  },
  {
   "cell_type": "code",
   "execution_count": 96,
   "id": "6fe6f0ca",
   "metadata": {},
   "outputs": [
    {
     "name": "stdout",
     "output_type": "stream",
     "text": [
      "9.81 Ford T-450 2020\n"
     ]
    }
   ],
   "source": [
    "#inheritance with multiple classes\n",
    "class Physics:\n",
    "    gravity = 9.81\n",
    "class Automobile:\n",
    "    def __init__(self, make, model, year):\n",
    "        self.make, self.model, self.year = make, model, year\n",
    "        \n",
    "class Ford(Physics, Automobile):\n",
    "    def __init__(self, model, year):\n",
    "        Automobile.__init__(self, \"Ford\", model, year) #super does not work with multiple inheritance\n",
    "        \n",
    "truck = Ford(\"T-450\", 2020)\n",
    "print(truck.gravity, truck.make, truck.model, truck.year)"
   ]
  },
  {
   "cell_type": "code",
   "execution_count": 118,
   "id": "f360d6d5",
   "metadata": {},
   "outputs": [
    {
     "name": "stdout",
     "output_type": "stream",
     "text": [
      "Hello, my name is Peter and I'm on the good guys\n",
      "Hello, my name is Tony and I'm on the bad guys\n",
      "Hello, my name is Max and I am on the good guys\n"
     ]
    }
   ],
   "source": [
    "#Assignment\n",
    "\n",
    "class Characters:\n",
    "    def __init__(self, name, team, height, weight):\n",
    "        self.name, self.team, self.height, self.weight = name , team, height, weight\n",
    "        \n",
    "    def sayHello(self):\n",
    "        print(\"Hello, my name is Max and I am on the good guys\")\n",
    "        \n",
    "class GoodPlayers(Characters):\n",
    "    def __init__(self, name,team,height,weight):\n",
    "        self.team = \"good\"\n",
    "        super().__init__(name,team,height,weight)\n",
    "        \n",
    "    def sayHello(self):\n",
    "        print(\"Hello, my name is \"+self.name+ \" and I'm on the \"+self.team+\" guys\")\n",
    "        \n",
    "class BadPlayers(Characters):\n",
    "    def __init(self, name,team,height,weight):\n",
    "        self.team = \"bad\"\n",
    "        super().__init__(name,team,height,weight)\n",
    "        \n",
    "    def sayHello(self):\n",
    "        print(\"Hello, my name is \"+self.name+ \" and I'm on the \"+self.team+\" guys\")\n",
    "        \n",
    "        \n",
    "person1 = GoodPlayers(\"Peter\", \"good\", \"5ft\", \"50kgs\")\n",
    "person1.sayHello()\n",
    "\n",
    "person2 = BadPlayers(\"Tony\",\"bad\", \"6ft\", \"60kgs\")\n",
    "person2.sayHello()\n",
    "\n",
    "persondefault = Characters(\"Max\",\"good\", \"4ft\", \"34kgs\")\n",
    "persondefault.sayHello()"
   ]
  },
  {
   "cell_type": "code",
   "execution_count": null,
   "id": "94dd92ff",
   "metadata": {},
   "outputs": [],
   "source": []
  }
 ],
 "metadata": {
  "kernelspec": {
   "display_name": "Python 3 (ipykernel)",
   "language": "python",
   "name": "python3"
  },
  "language_info": {
   "codemirror_mode": {
    "name": "ipython",
    "version": 3
   },
   "file_extension": ".py",
   "mimetype": "text/x-python",
   "name": "python",
   "nbconvert_exporter": "python",
   "pygments_lexer": "ipython3",
   "version": "3.9.12"
  }
 },
 "nbformat": 4,
 "nbformat_minor": 5
}

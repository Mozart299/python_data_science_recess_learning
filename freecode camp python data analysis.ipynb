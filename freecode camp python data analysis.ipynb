{
 "cells": [
  {
   "cell_type": "code",
   "execution_count": 1,
   "id": "ef674c0e",
   "metadata": {},
   "outputs": [
    {
     "name": "stdout",
     "output_type": "stream",
     "text": [
      "       Certificates  Time (in months)  Longest streak\n",
      "Tom               8                16              13\n",
      "Kris              2                 5              11\n",
      "Ahmad             5                 9               9\n",
      "Beau              6                12               7\n"
     ]
    }
   ],
   "source": [
    "#Exercise one\n",
    "import pandas as pd\n",
    "\n",
    "certificates_earned = pd.DataFrame({\n",
    "    'Certificates': [8, 2, 5, 6],\n",
    "    'Time (in months)': [16, 5, 9, 12]\n",
    "})\n",
    "names = ['Tom', 'Kris', 'Ahmad', 'Beau']\n",
    "\n",
    "certificates_earned.index = names\n",
    "longest_streak = pd.Series([13, 11, 9, 7], index=names)\n",
    "certificates_earned['Longest streak'] = longest_streak\n",
    "\n",
    "print(certificates_earned)"
   ]
  },
  {
   "cell_type": "code",
   "execution_count": 10,
   "id": "10a82816",
   "metadata": {},
   "outputs": [
    {
     "name": "stdout",
     "output_type": "stream",
     "text": [
      "       Certificates  Time (in months)  Certificates per month\n",
      "Tom               8                16                     0.5\n",
      "Kris              2                 5                     0.4\n",
      "Ahmad             5                 9                     0.6\n",
      "Beau              6                12                     0.5\n"
     ]
    }
   ],
   "source": [
    "#02\n",
    "\n",
    "certificates_earned = pd.DataFrame({\n",
    "    'Certificates': [8, 2, 5, 6],\n",
    "    'Time (in months)': [16, 5, 9, 12]\n",
    "})\n",
    "names = ['Tom', 'Kris', 'Ahmad', 'Beau']\n",
    "\n",
    "certificates_earned.index = names\n",
    "certificates_earned['Certificates per month'] = round (\n",
    "    certificates_earned['Certificates']/\n",
    "    certificates_earned['Time (in months)'], 1\n",
    ")\n",
    "print(certificates_earned)"
   ]
  },
  {
   "cell_type": "code",
   "execution_count": 12,
   "id": "7f62889d",
   "metadata": {},
   "outputs": [
    {
     "name": "stdout",
     "output_type": "stream",
     "text": [
      "3\n"
     ]
    }
   ],
   "source": [
    "#03\n",
    "import pandas as pd\n",
    "import numpy as np\n",
    "\n",
    "s = pd.Series(['a', 3, np.nan, 1, np.nan])\n",
    "\n",
    "print(s.notnull().sum())"
   ]
  },
  {
   "cell_type": "code",
   "execution_count": 14,
   "id": "12fe0356",
   "metadata": {},
   "outputs": [
    {
     "name": "stdout",
     "output_type": "stream",
     "text": [
      "0    NaN\n",
      "1    1.0\n",
      "2    2.0\n",
      "3    2.0\n",
      "4    3.0\n",
      "dtype: float64\n"
     ]
    }
   ],
   "source": [
    "#04\n",
    "import pandas as pd\n",
    "import numpy as np\n",
    "\n",
    "s = pd.Series([np.nan, 1, 2, np.nan, 3])\n",
    "s = s.fillna(method='ffill')\n",
    "\n",
    "print(s)"
   ]
  },
  {
   "cell_type": "code",
   "execution_count": 18,
   "id": "40590381",
   "metadata": {},
   "outputs": [
    {
     "data": {
      "text/plain": [
       "<AxesSubplot:>"
      ]
     },
     "execution_count": 18,
     "metadata": {},
     "output_type": "execute_result"
    },
    {
     "data": {
      "image/png": "[encoded data removed]",
      "text/plain": [
       "<Figure size 432x288 with 1 Axes>"
      ]
     },
     "metadata": {
      "needs_background": "light"
     },
     "output_type": "display_data"
    }
   ],
   "source": [
    "import matplotlib.pyplot as plt\n",
    "plt.subplot(1,2,1)"
   ]
  }
 ],
 "metadata": {
  "kernelspec": {
   "display_name": "Python 3 (ipykernel)",
   "language": "python",
   "name": "python3"
  },
  "language_info": {
   "codemirror_mode": {
    "name": "ipython",
    "version": 3
   },
   "file_extension": ".py",
   "mimetype": "text/x-python",
   "name": "python",
   "nbconvert_exporter": "python",
   "pygments_lexer": "ipython3",
   "version": "3.9.12"
  }
 },
 "nbformat": 4,
 "nbformat_minor": 5
}

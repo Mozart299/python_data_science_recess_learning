{
 "cells": [
  {
   "cell_type": "code",
   "execution_count": 1,
   "id": "302a62e6",
   "metadata": {},
   "outputs": [
    {
     "name": "stdout",
     "output_type": "stream",
     "text": [
      "hello\n"
     ]
    }
   ],
   "source": [
    "print (\"hello\")"
   ]
  },
  {
   "cell_type": "code",
   "execution_count": 7,
   "id": "f71ee126",
   "metadata": {},
   "outputs": [
    {
     "name": "stdout",
     "output_type": "stream",
     "text": [
      "peter is 22 years old\n"
     ]
    }
   ],
   "source": [
    "x = \"peter\"\n",
    "y = \"22\"\n",
    "print(a + \" is \" + b)"
   ]
  },
  {
   "cell_type": "code",
   "execution_count": 14,
   "id": "5ebad09b",
   "metadata": {},
   "outputs": [
    {
     "data": {
      "text/plain": [
       "5"
      ]
     },
     "execution_count": 14,
     "metadata": {},
     "output_type": "execute_result"
    }
   ],
   "source": [
    "#the symbol // means integer value\n",
    "11//2"
   ]
  },
  {
   "cell_type": "code",
   "execution_count": 13,
   "id": "e9fc9ec7",
   "metadata": {},
   "outputs": [
    {
     "name": "stdout",
     "output_type": "stream",
     "text": [
      "2.0\n"
     ]
    }
   ],
   "source": [
    "x = 4 \n",
    "x = x/2\n",
    "print(x)"
   ]
  },
  {
   "cell_type": "code",
   "execution_count": 16,
   "id": "88d74a69",
   "metadata": {},
   "outputs": [
    {
     "name": "stdout",
     "output_type": "stream",
     "text": [
      "K\n",
      "r\n"
     ]
    }
   ],
   "source": [
    "#the index 0 corresponds to the first index\n",
    "#index -1 corresponds to the last index\n",
    "name = \"Kyeyune Peter\"\n",
    "print(name[0])\n",
    "print(name[-1])"
   ]
  },
  {
   "cell_type": "code",
   "execution_count": 17,
   "id": "ae7e687a",
   "metadata": {},
   "outputs": [
    {
     "name": "stdout",
     "output_type": "stream",
     "text": [
      "AB\n",
      "C\n",
      "DE\n"
     ]
    }
   ],
   "source": [
    "#when the print function encounters a \\n it displays a new line\n",
    "print(\"AB\\nC\\nDE\")"
   ]
  },
  {
   "cell_type": "code",
   "execution_count": 18,
   "id": "c8ca5f58",
   "metadata": {},
   "outputs": [
    {
     "data": {
      "text/plain": [
       "6"
      ]
     },
     "execution_count": 18,
     "metadata": {},
     "output_type": "execute_result"
    }
   ],
   "source": [
    "#the find method finds the starting index of a substring\n",
    "\"hello Mike\".find(\"Mike\")"
   ]
  },
  {
   "cell_type": "code",
   "execution_count": 1,
   "id": "057ea870",
   "metadata": {},
   "outputs": [
    {
     "name": "stdout",
     "output_type": "stream",
     "text": [
      "Peter BSSE III\n",
      "Peter\n",
      "BSSE\n",
      "III\n"
     ]
    }
   ],
   "source": [
    "x,y,z = \"Peter\",\"BSSE\",\"III\"\n",
    "print(x,y,z)\n",
    "print(x)\n",
    "print(y)\n",
    "print(z)"
   ]
  },
  {
   "cell_type": "code",
   "execution_count": 5,
   "id": "ff864cf7",
   "metadata": {},
   "outputs": [
    {
     "name": "stdout",
     "output_type": "stream",
     "text": [
      "It is true that Kyeyune is 21 years old.\n"
     ]
    }
   ],
   "source": [
    "status=\"true\"\n",
    "name=\"Kyeyune\"\n",
    "age=str(21)\n",
    "print(\"It is \"+status+\" that \"+name+\" is \"+age+ \" years old.\")"
   ]
  },
  {
   "cell_type": "code",
   "execution_count": null,
   "id": "485f0cc4",
   "metadata": {},
   "outputs": [],
   "source": []
  },
  {
   "cell_type": "code",
   "execution_count": null,
   "id": "2062e7b9",
   "metadata": {},
   "outputs": [],
   "source": [
    "\n"
   ]
  }
 ],
 "metadata": {
  "kernelspec": {
   "display_name": "Python 3 (ipykernel)",
   "language": "python",
   "name": "python3"
  },
  "language_info": {
   "codemirror_mode": {
    "name": "ipython",
    "version": 3
   },
   "file_extension": ".py",
   "mimetype": "text/x-python",
   "name": "python",
   "nbconvert_exporter": "python",
   "pygments_lexer": "ipython3",
   "version": "3.9.12"
  }
 },
 "nbformat": 4,
 "nbformat_minor": 5
}

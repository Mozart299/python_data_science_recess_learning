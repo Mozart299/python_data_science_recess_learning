{
 "cells": [
  {
   "cell_type": "code",
   "execution_count": 1,
   "id": "f6729510",
   "metadata": {},
   "outputs": [
    {
     "name": "stdout",
     "output_type": "stream",
     "text": [
      "<class 'float'>\n",
      "<class 'complex'>\n",
      "<class 'int'>\n"
     ]
    }
   ],
   "source": [
    "# python numbers\n",
    "print(type(3.3))\n",
    "print(type(4j))\n",
    "print(type(4))"
   ]
  },
  {
   "cell_type": "code",
   "execution_count": 2,
   "id": "404801b7",
   "metadata": {},
   "outputs": [
    {
     "name": "stdout",
     "output_type": "stream",
     "text": [
      "2\n",
      "4+6\n",
      "10.0\n"
     ]
    }
   ],
   "source": [
    "#python casting\n",
    "#it applies to floats, integers and strings\n",
    "x = float(10)\n",
    "y = int(2.4)\n",
    "z = str(\"4+6\")\n",
    "print (y)\n",
    "print (z)\n",
    "print (x)"
   ]
  },
  {
   "cell_type": "code",
   "execution_count": 3,
   "id": "71a79c46",
   "metadata": {},
   "outputs": [
    {
     "name": "stdout",
     "output_type": "stream",
     "text": [
      "Audi\n",
      "BMW\n",
      "Subaru\n",
      "Toyota\n"
     ]
    }
   ],
   "source": [
    "# python if statement\n",
    "#title() - the first letter of every word is capital\n",
    "cars = ['audi', 'bmw', 'subaru', 'toyota']\n",
    "for car in cars:\n",
    "    if car == 'bmw':\n",
    "        print(car.upper())\n",
    "    else:\n",
    "        print(car.title())"
   ]
  },
  {
   "cell_type": "code",
   "execution_count": 7,
   "id": "6409d319",
   "metadata": {},
   "outputs": [
    {
     "data": {
      "text/plain": [
       "True"
      ]
     },
     "execution_count": 7,
     "metadata": {},
     "output_type": "execute_result"
    }
   ],
   "source": [
    "#conditional tests\n",
    "car = 'Rover'\n",
    "car.lower() == 'rover'"
   ]
  },
  {
   "cell_type": "code",
   "execution_count": 18,
   "id": "b2afe290",
   "metadata": {},
   "outputs": [
    {
     "name": "stdout",
     "output_type": "stream",
     "text": [
      "Hold the anchoives!\n"
     ]
    }
   ],
   "source": [
    "requested_topping = 'mushrooms'\n",
    "if requested_topping != 'anchoives':\n",
    "    print(\"Hold the anchoives!\")\n",
    "else:\n",
    "    print(\"Hold the mushrooms!\")"
   ]
  },
  {
   "cell_type": "code",
   "execution_count": 19,
   "id": "fb36dba3",
   "metadata": {},
   "outputs": [
    {
     "data": {
      "text/plain": [
       "True"
      ]
     },
     "execution_count": 19,
     "metadata": {},
     "output_type": "execute_result"
    }
   ],
   "source": [
    "#checking multiple conditions\n",
    "age_0 = 22\n",
    "age_1 = 18\n",
    "age_0 >= 21 and age_1 >= 17"
   ]
  },
  {
   "cell_type": "code",
   "execution_count": 20,
   "id": "4eb93d58",
   "metadata": {},
   "outputs": [],
   "source": [
    "requested_toppings = ['mushrooms','onions','pineapples']\n",
    "mushrooms in requested toppings"
   ]
  },
  {
   "cell_type": "code",
   "execution_count": 22,
   "id": "40b9ad58",
   "metadata": {},
   "outputs": [
    {
     "name": "stdout",
     "output_type": "stream",
     "text": [
      "\n"
     ]
    }
   ],
   "source": [
    "banned_users = ['andrew', 'carolina','david']\n",
    "user = 'marie'\n",
    "if user not in banned_users:\n",
    "    print()"
   ]
  },
  {
   "cell_type": "code",
   "execution_count": 29,
   "id": "0c3b9f9f",
   "metadata": {},
   "outputs": [
    {
     "name": "stdout",
     "output_type": "stream",
     "text": [
      "how old are you?44\n",
      "You are eligible to vote\n"
     ]
    }
   ],
   "source": [
    "#assignment\n",
    "age =int(input(\"how old are you?\"))\n",
    "if age >= 18:\n",
    "    print(\"You are eligible to vote\")\n",
    "else:\n",
    "    print(\"You are not eligible to vote\")"
   ]
  },
  {
   "cell_type": "code",
   "execution_count": 35,
   "id": "1ee70523",
   "metadata": {},
   "outputs": [
    {
     "name": "stdout",
     "output_type": "stream",
     "text": [
      "Your admission cost is $25.\n"
     ]
    }
   ],
   "source": [
    "age = 12\n",
    "if age < 4:\n",
    "    price = 0\n",
    "elif age < 18:\n",
    "    price = 25\n",
    "elif age > 65:\n",
    "    price = 40\n",
    "else:\n",
    "    price = 20\n",
    "print(f\"Your admission cost is ${price}.\")"
   ]
  },
  {
   "cell_type": "code",
   "execution_count": 38,
   "id": "90ecb898",
   "metadata": {},
   "outputs": [
    {
     "name": "stdout",
     "output_type": "stream",
     "text": [
      "Adding mushrooms.\n",
      "Adding extra cheese.\n",
      "\n",
      "Finished making your pizza!\n"
     ]
    }
   ],
   "source": [
    "requested_toppings = ['mushrooms','extra_cheese']\n",
    "if 'mushrooms' in requested_toppings:\n",
    "    print(\"Adding mushrooms.\")\n",
    "if 'pepperoni' in requested_toppings:\n",
    "    print(\"Adding peperoni.\")\n",
    "if 'extra_cheese' in requested_toppings:\n",
    "    print(\"Adding extra cheese.\")\n",
    "print(\"\\nFinished making your pizza!\")"
   ]
  },
  {
   "cell_type": "code",
   "execution_count": 61,
   "id": "af1214f3",
   "metadata": {},
   "outputs": [
    {
     "name": "stdout",
     "output_type": "stream",
     "text": [
      "['apple', 'banana', 'cherry', 'mango', 'avocado', 'black currant']\n",
      "banana\n",
      "black currant\n",
      "['cherry', 'mango', 'avocado']\n",
      "6\n",
      "<class 'list'>\n",
      "['apple', 'pawpaw', 'cherry', 'mango', 'avocado', 'black currant']\n",
      "['apple', 'pawpaw', 'cherry', 'mango', 'avocado', 'black currant', 'orange']\n",
      "['apple', 'pawpaw', 'cherry', 'mango', 'avocado', 'pear', 'black currant', 'orange']\n",
      "['apple', 'pawpaw', 'mango', 'avocado', 'pear', 'black currant', 'orange']\n"
     ]
    }
   ],
   "source": [
    "#Lists\n",
    "mylist = [\"apple\", \"banana\", \"cherry\",\"mango\",\"avocado\",\"black currant\"]\n",
    "print(mylist)\n",
    "\n",
    "print(mylist[1])\n",
    "\n",
    "#prints the last item in list\n",
    "print(mylist[-1])\n",
    "\n",
    "#range of indexes\n",
    "print(mylist[2:5])\n",
    "\n",
    "#length of list\n",
    "print(len(mylist))\n",
    "\n",
    "#type of structure\n",
    "print(type(mylist))\n",
    "\n",
    "#changing items in list\n",
    "mylist[1] = \"pawpaw\"\n",
    "print(mylist)\n",
    "\n",
    "#appending items(adds at send of list)\n",
    "mylist.append(\"orange\")\n",
    "print (mylist)\n",
    "\n",
    "#inserting items (adds item at any point in the list)\n",
    "mylist.insert(5,\"pear\")\n",
    "print(mylist)\n",
    "\n",
    "#removing item from list\n",
    "mylist.remove(\"cherry\")\n",
    "print(mylist)\n"
   ]
  },
  {
   "cell_type": "code",
   "execution_count": 68,
   "id": "7cefa099",
   "metadata": {},
   "outputs": [
    {
     "name": "stdout",
     "output_type": "stream",
     "text": [
      "('techno', 'samsung', 'nokia')\n",
      "<class 'tuple'>\n",
      "nokia\n",
      "('techno', 'samsung', 'nokia', 'iphone')\n"
     ]
    }
   ],
   "source": [
    "#tuples\n",
    "#tuples are unchangeable\n",
    "#but there is a way around that\n",
    "mytuple = (\"techno\", \"samsung\", \"nokia\")\n",
    "print (mytuple)\n",
    "\n",
    "#type of structure\n",
    "print(type(mytuple))\n",
    "\n",
    "print(mytuple[2])\n",
    "\n",
    "#changing items in a tuple\n",
    "#first convert it into a list then back into a tuple\n",
    "y = list(mytuple)\n",
    "y.append(\"iphone\")\n",
    "x = tuple(y)\n",
    "print(x)"
   ]
  },
  {
   "cell_type": "code",
   "execution_count": 70,
   "id": "808ec4be",
   "metadata": {},
   "outputs": [
    {
     "name": "stdout",
     "output_type": "stream",
     "text": [
      "{'apple', 'banana', 'cherry'}\n"
     ]
    }
   ],
   "source": [
    "#sets\n",
    "#unordered\n",
    "#unchangeable\n",
    "#duplicates not allowed\n",
    "myset = {\"apple\",\"banana\", \"cherry\"}\n",
    "print(myset)"
   ]
  },
  {
   "cell_type": "code",
   "execution_count": null,
   "id": "e1ef6035",
   "metadata": {},
   "outputs": [],
   "source": []
  },
  {
   "cell_type": "code",
   "execution_count": null,
   "id": "ec00824e",
   "metadata": {},
   "outputs": [],
   "source": []
  }
 ],
 "metadata": {
  "kernelspec": {
   "display_name": "Python 3 (ipykernel)",
   "language": "python",
   "name": "python3"
  },
  "language_info": {
   "codemirror_mode": {
    "name": "ipython",
    "version": 3
   },
   "file_extension": ".py",
   "mimetype": "text/x-python",
   "name": "python",
   "nbconvert_exporter": "python",
   "pygments_lexer": "ipython3",
   "version": "3.9.12"
  }
 },
 "nbformat": 4,
 "nbformat_minor": 5
}

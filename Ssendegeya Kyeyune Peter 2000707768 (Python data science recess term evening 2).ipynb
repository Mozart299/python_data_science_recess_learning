{
 "cells": [
  {
   "cell_type": "code",
   "execution_count": 1,
   "id": "769f6ddf",
   "metadata": {},
   "outputs": [
    {
     "name": "stdout",
     "output_type": "stream",
     "text": [
      "('techno', 'iphone', 'samsung')\n",
      "<class 'tuple'>\n",
      "['techno', 'sony', 'iphone', 'samsung']\n"
     ]
    }
   ],
   "source": [
    "#tuple\n",
    "phones = (\"techno\",\"iphone\",\"samsung\")\n",
    "print(phones)\n",
    "print(type(phones))\n",
    "phones = list(phones)\n",
    "phones.insert(1,\"sony\")\n",
    "print(phones)"
   ]
  },
  {
   "cell_type": "code",
   "execution_count": 2,
   "id": "7121b938",
   "metadata": {},
   "outputs": [
    {
     "name": "stdout",
     "output_type": "stream",
     "text": [
      "{'mango', 'watermelon', 'pineapple', 'apple'}\n",
      "mango\n",
      "watermelon\n",
      "pineapple\n",
      "apple\n"
     ]
    }
   ],
   "source": [
    "#sets\n",
    "fruits = {\"mango\", \"apple\",\"pineapple\",\"watermelon\"}\n",
    "print(fruits)\n",
    "for fruit in fruits:\n",
    "    print(fruit)"
   ]
  },
  {
   "cell_type": "code",
   "execution_count": 3,
   "id": "9c59ff56",
   "metadata": {},
   "outputs": [
    {
     "data": {
      "text/plain": [
       "bool"
      ]
     },
     "execution_count": 3,
     "metadata": {},
     "output_type": "execute_result"
    }
   ],
   "source": [
    "#boolean\n",
    "1<8\n",
    "type(False)\n",
    "type(True)"
   ]
  },
  {
   "cell_type": "code",
   "execution_count": 4,
   "id": "930a368c",
   "metadata": {},
   "outputs": [
    {
     "name": "stdout",
     "output_type": "stream",
     "text": [
      "\n",
      "Here is a list of the Python keywords.  Enter any keyword to get more help.\n",
      "\n",
      "False               break               for                 not\n",
      "None                class               from                or\n",
      "True                continue            global              pass\n",
      "__peg_parser__      def                 if                  raise\n",
      "and                 del                 import              return\n",
      "as                  elif                in                  try\n",
      "assert              else                is                  while\n",
      "async               except              lambda              with\n",
      "await               finally             nonlocal            yield\n",
      "\n"
     ]
    }
   ],
   "source": [
    "#help keywords\n",
    "help(\"keywords\")"
   ]
  },
  {
   "cell_type": "code",
   "execution_count": 5,
   "id": "de9d40b1",
   "metadata": {},
   "outputs": [
    {
     "name": "stdout",
     "output_type": "stream",
     "text": [
      "False\n",
      "True\n"
     ]
    }
   ],
   "source": [
    "#boolean\n",
    "x = {}\n",
    "y = 1\n",
    "print(bool(x))\n",
    "print(bool(y))"
   ]
  },
  {
   "cell_type": "code",
   "execution_count": 6,
   "id": "de025cfe",
   "metadata": {},
   "outputs": [
    {
     "name": "stdout",
     "output_type": "stream",
     "text": [
      "False\n",
      "True\n",
      "True\n"
     ]
    }
   ],
   "source": [
    "var1 = 0\n",
    "var2 = 5\n",
    "var3 = 3.9\n",
    "print(bool(var1))\n",
    "print(bool(var2))\n",
    "print(bool(var3))"
   ]
  },
  {
   "cell_type": "code",
   "execution_count": 7,
   "id": "89a59715",
   "metadata": {},
   "outputs": [
    {
     "name": "stdout",
     "output_type": "stream",
     "text": [
      "True\n",
      "All numbers have a true\n"
     ]
    }
   ],
   "source": [
    "#boolean algebra\n",
    "a = 1\n",
    "b = 2\n",
    "c = 5\n",
    "\n",
    "if a > b or b < c:\n",
    "    print(True)\n",
    "else:\n",
    "    print(False)\n",
    "if a and b and c:\n",
    "    print(\"All numbers have a true\")\n",
    "else:\n",
    "    print(\"Atleast one has a true\")"
   ]
  },
  {
   "cell_type": "code",
   "execution_count": 8,
   "id": "c80da662",
   "metadata": {},
   "outputs": [
    {
     "name": "stdout",
     "output_type": "stream",
     "text": [
      "True\n",
      "True\n"
     ]
    }
   ],
   "source": [
    "a = 0\n",
    "b = 1\n",
    "if (a == 0):\n",
    "    print(True)\n",
    "if (a != b):\n",
    "    print(True)"
   ]
  },
  {
   "cell_type": "code",
   "execution_count": 10,
   "id": "de8f778d",
   "metadata": {},
   "outputs": [
    {
     "name": "stdout",
     "output_type": "stream",
     "text": [
      "True\n",
      "True\n",
      "I am a lion and present\n"
     ]
    }
   ],
   "source": [
    "#is operator\n",
    "x = 10\n",
    "y = 10\n",
    "if x is y:\n",
    "    print(True)\n",
    "else:\n",
    "    print(False)\n",
    "    \n",
    "animal = [\"lion\",\"dog\",\"cat\"]\n",
    "if \"lion\" in animal:\n",
    "    print(True)\n",
    "    print(\"I am a lion and present\")\n",
    "else:\n",
    "    print(\"Absent\")"
   ]
  },
  {
   "cell_type": "code",
   "execution_count": 12,
   "id": "5125b765",
   "metadata": {},
   "outputs": [
    {
     "name": "stdout",
     "output_type": "stream",
     "text": [
      "1\n",
      "2\n",
      "3\n",
      "4\n",
      "5\n"
     ]
    }
   ],
   "source": [
    "#while loop\n",
    "i = 1\n",
    "while i < 10:\n",
    "    print(i)\n",
    "    if i == 5:\n",
    "        break\n",
    "    i+=1"
   ]
  },
  {
   "cell_type": "code",
   "execution_count": 13,
   "id": "b9a2bd0e",
   "metadata": {},
   "outputs": [
    {
     "name": "stdout",
     "output_type": "stream",
     "text": [
      "2\n",
      "4\n",
      "6\n",
      "8\n"
     ]
    }
   ],
   "source": [
    "i = 1\n",
    "while i < 10:\n",
    "    if(i%2 == 0):\n",
    "        print(i)\n",
    "    i+=1"
   ]
  },
  {
   "cell_type": "code",
   "execution_count": 14,
   "id": "faef6e51",
   "metadata": {},
   "outputs": [
    {
     "name": "stdout",
     "output_type": "stream",
     "text": [
      "P\n",
      "e\n",
      "t\n",
      "e\n",
      "r\n"
     ]
    }
   ],
   "source": [
    "#for loop\n",
    "word = \"Peter\"\n",
    "for i in word:\n",
    "    print(i)"
   ]
  },
  {
   "cell_type": "code",
   "execution_count": null,
   "id": "0e9431f3",
   "metadata": {},
   "outputs": [],
   "source": []
  }
 ],
 "metadata": {
  "kernelspec": {
   "display_name": "Python 3 (ipykernel)",
   "language": "python",
   "name": "python3"
  },
  "language_info": {
   "codemirror_mode": {
    "name": "ipython",
    "version": 3
   },
   "file_extension": ".py",
   "mimetype": "text/x-python",
   "name": "python",
   "nbconvert_exporter": "python",
   "pygments_lexer": "ipython3",
   "version": "3.9.12"
  }
 },
 "nbformat": 4,
 "nbformat_minor": 5
}

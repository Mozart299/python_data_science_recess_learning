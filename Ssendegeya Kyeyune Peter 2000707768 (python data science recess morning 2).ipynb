{
 "cells": [
  {
   "cell_type": "code",
   "execution_count": 11,
   "id": "367c19a5",
   "metadata": {},
   "outputs": [
    {
     "name": "stdout",
     "output_type": "stream",
     "text": [
      "['Tesla', 'Audi', 'Jeep', 'Benz']\n",
      "4\n",
      "Tesla\n",
      "Audi\n",
      "Jeep\n",
      "Benz\n",
      "True\n",
      "False\n"
     ]
    }
   ],
   "source": [
    "#python arrays\n",
    "cars = ['Tesla', 'Audi', 'Jeep','Benz']\n",
    "print(cars)\n",
    "print(len(cars))\n",
    "for x in cars:\n",
    "    print (x)\n",
    "    \n",
    "#is Benz in the list\n",
    "has_Benz = 'Benz' in cars\n",
    "print(has_Benz)\n",
    "\n",
    "#is Toyota in list?\n",
    "has_Toyota = 'Toyota' in cars\n",
    "print(has_Toyota)\n",
    "\n",
    "car1 = 'Tesla'\n",
    "car2 = 'Audi'\n",
    "car3 = 'Jeep'"
   ]
  },
  {
   "cell_type": "code",
   "execution_count": 15,
   "id": "6401cbc8",
   "metadata": {},
   "outputs": [
    {
     "name": "stdout",
     "output_type": "stream",
     "text": [
      "['Zara', 'Lupe', 'Hong', 'Alberto', 'Jake', 'Huey', 'Dewey', 'Louie', 'Nader', 'Bubba']\n"
     ]
    }
   ],
   "source": [
    "#extend method combines two arrays together\n",
    "# Create two arrays of Names.\n",
    "list1 = [\"Zara\", \"Lupe\", \"Hong\", \"Alberto\", \"Jake\"]\n",
    "list2 = [\"Huey\", \"Dewey\", \"Louie\", \"Nader\", \"Bubba\"]\n",
    "\n",
    "#add list2 to list 1\n",
    "list1.extend(list2)\n",
    "\n",
    "#print new list\n",
    "print(list1)"
   ]
  },
  {
   "cell_type": "code",
   "execution_count": 20,
   "id": "0fa4d595",
   "metadata": {},
   "outputs": [
    {
     "name": "stdout",
     "output_type": "stream",
     "text": [
      "['A', 'B', 'D', 'E']\n"
     ]
    }
   ],
   "source": [
    "#Removing array items\n",
    "#creating an array of strings\n",
    "letters = [\"A\",\"B\",\"C\",\"D\",\"E\"]\n",
    "\n",
    "#remove letter C from array\n",
    "letters.remove(\"C\")\n",
    "\n",
    "#print new array\n",
    "print (letters)"
   ]
  },
  {
   "cell_type": "code",
   "execution_count": 21,
   "id": "b35b8cbf",
   "metadata": {},
   "outputs": [
    {
     "name": "stdout",
     "output_type": "stream",
     "text": [
      "['B', 'C', 'D', 'E']\n",
      "['B', 'C', 'D']\n",
      "[]\n"
     ]
    }
   ],
   "source": [
    "#using pop removes element at specified position \n",
    "#creating an array of strings\n",
    "letters = [\"A\",\"B\",\"C\",\"D\",\"E\"]\n",
    "\n",
    "#remove the first item\n",
    "letters.pop(0)\n",
    "print(letters)\n",
    "\n",
    "#remove last item\n",
    "letters.pop()\n",
    "print(letters)\n",
    "\n",
    "#using clear method\n",
    "letters.clear()\n",
    "print(letters)"
   ]
  },
  {
   "cell_type": "code",
   "execution_count": 27,
   "id": "1884f230",
   "metadata": {},
   "outputs": [
    {
     "name": "stdout",
     "output_type": "stream",
     "text": [
      "Tesla\n",
      "Audi\n",
      "Jeep\n"
     ]
    }
   ],
   "source": [
    "#Python iterators\n",
    "mytuple = ('Tesla','Audi','Jeep')\n",
    "myit = iter(mytuple)\n",
    "\n",
    "print(next(myit))\n",
    "print(next(myit))\n",
    "print(next(myit))"
   ]
  },
  {
   "cell_type": "code",
   "execution_count": 28,
   "id": "5cd07f76",
   "metadata": {},
   "outputs": [
    {
     "name": "stdout",
     "output_type": "stream",
     "text": [
      "P\n",
      "e\n",
      "t\n",
      "e\n",
      "r\n"
     ]
    }
   ],
   "source": [
    "#iterate through string\n",
    "myname = \"Peter\"\n",
    "my_iter = iter(myname)\n",
    "\n",
    "print(next(my_iter))\n",
    "print(next(my_iter))\n",
    "print(next(my_iter))\n",
    "print(next(my_iter))\n",
    "print(next(my_iter))"
   ]
  },
  {
   "cell_type": "code",
   "execution_count": 29,
   "id": "2d8ba7a7",
   "metadata": {},
   "outputs": [
    {
     "name": "stdout",
     "output_type": "stream",
     "text": [
      "P\n",
      "e\n",
      "t\n",
      "e\n",
      "r\n",
      " \n",
      "K\n",
      "y\n",
      "e\n",
      "y\n",
      "u\n",
      "n\n",
      "e\n"
     ]
    }
   ],
   "source": [
    "#looping through characters of a string\n",
    "mystr = \"Peter Kyeyune\"\n",
    "for x in mystr:\n",
    "    print(x)"
   ]
  },
  {
   "cell_type": "code",
   "execution_count": 30,
   "id": "54e0f475",
   "metadata": {},
   "outputs": [
    {
     "name": "stdout",
     "output_type": "stream",
     "text": [
      "Arsenal\n",
      "Chelsea\n",
      "Liverpool\n",
      "Nottingham Forest\n"
     ]
    }
   ],
   "source": [
    "#looping through an iterator (tuple)\n",
    "club = (\"Arsenal\",\"Chelsea\",\"Liverpool\",\"Nottingham Forest\")\n",
    "\n",
    "for team in club:\n",
    "    print(team)"
   ]
  },
  {
   "cell_type": "code",
   "execution_count": 2,
   "id": "8a363d67",
   "metadata": {},
   "outputs": [
    {
     "name": "stdout",
     "output_type": "stream",
     "text": [
      "Enter username:\n",
      "peter\n",
      "Hello peter\n"
     ]
    }
   ],
   "source": [
    "#input() method\n",
    "username = input(\"Enter username:\\n\")\n",
    "print (\"Hello \"+ username)"
   ]
  },
  {
   "cell_type": "code",
   "execution_count": null,
   "id": "5620e080",
   "metadata": {},
   "outputs": [],
   "source": []
  }
 ],
 "metadata": {
  "kernelspec": {
   "display_name": "Python 3 (ipykernel)",
   "language": "python",
   "name": "python3"
  },
  "language_info": {
   "codemirror_mode": {
    "name": "ipython",
    "version": 3
   },
   "file_extension": ".py",
   "mimetype": "text/x-python",
   "name": "python",
   "nbconvert_exporter": "python",
   "pygments_lexer": "ipython3",
   "version": "3.9.12"
  }
 },
 "nbformat": 4,
 "nbformat_minor": 5
}
